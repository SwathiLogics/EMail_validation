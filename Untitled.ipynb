{
 "cells": [
  {
   "cell_type": "code",
   "execution_count": 1,
   "id": "c2287f33-db68-45cc-9f2a-eaa72f60faf3",
   "metadata": {},
   "outputs": [
    {
     "name": "stdout",
     "output_type": "stream",
     "text": [
      "The email \"example@email.com\" is valid.\n"
     ]
    }
   ],
   "source": [
    "import re\n",
    "\n",
    "def is_valid_email(email):\n",
    "    # Define a regular expression pattern for basic email validation\n",
    "    email_pattern = re.compile(r'^[a-zA-Z0-9._%+-]+@[a-zA-Z0-9.-]+\\.[a-zA-Z]{2,}$')\n",
    "\n",
    "    # Use the pattern to match the email string\n",
    "    match = email_pattern.match(email)\n",
    "\n",
    "    # Return True if there is a match, indicating a valid email\n",
    "    return bool(match)\n",
    "\n",
    "# Example usage:\n",
    "email_to_validate = 'example@email.com'\n",
    "\n",
    "if is_valid_email(email_to_validate):\n",
    "    print(f'The email \"{email_to_validate}\" is valid.')\n",
    "else:\n",
    "    print(f'The email \"{email_to_validate}\" is not valid.')\n"
   ]
  },
  {
   "cell_type": "code",
   "execution_count": null,
   "id": "cf25426e-be38-413f-879c-64f51f1dd5e9",
   "metadata": {},
   "outputs": [],
   "source": []
  }
 ],
 "metadata": {
  "kernelspec": {
   "display_name": "Python 3 (ipykernel)",
   "language": "python",
   "name": "python3"
  },
  "language_info": {
   "codemirror_mode": {
    "name": "ipython",
    "version": 3
   },
   "file_extension": ".py",
   "mimetype": "text/x-python",
   "name": "python",
   "nbconvert_exporter": "python",
   "pygments_lexer": "ipython3",
   "version": "3.8.10"
  }
 },
 "nbformat": 4,
 "nbformat_minor": 5
}
